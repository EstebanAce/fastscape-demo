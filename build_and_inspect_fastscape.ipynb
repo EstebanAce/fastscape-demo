{
 "cells": [
  {
   "cell_type": "markdown",
   "metadata": {},
   "source": [
    "# Build, inspect and customize computational models using xarray-simlab\n",
    "\n",
    "This notebook shows how the xarray-simlab's modelling framwork can be used to build a new model from scratch and further inspect or customize it. The example below consists of building a simple but extensible Landscape Evolution Model (LEM).\n",
    "\n",
    "We start by importing some packages."
   ]
  },
  {
   "cell_type": "code",
   "execution_count": null,
   "metadata": {},
   "outputs": [],
   "source": [
    "import numpy as np\n",
    "import xsimlab as xs"
   ]
  },
  {
   "cell_type": "markdown",
   "metadata": {},
   "source": [
    "## Create model components\n",
    "\n",
    "The xarray-simlab's modelling framwork works best when models are built from many small, pluggable components. This way those models can be further customized very easily.\n",
    "\n",
    "Each component consists of a succint Python class decorated with ``xsimlab.process`` and in which we declare some variables as class attributes as well as a few methods implementing some computation at different stages of the simulation.\n",
    "\n",
    "For more details on how to build model components, see xarray-simlab's [documentation](http://xarray-simlab.readthedocs.io/en/latest/create_model.html).\n",
    "\n",
    "For simplicity, the actual computation code may be missing in some of the components below."
   ]
  },
  {
   "cell_type": "markdown",
   "metadata": {},
   "source": [
    "We start here by defining the model's grid, which is itself implemented as a component. It just computes the `x` and `y` coordinates at the beginning of the simulation from given grid `size` and node `spacing`. "
   ]
  },
  {
   "cell_type": "code",
   "execution_count": null,
   "metadata": {},
   "outputs": [],
   "source": [
    "@xs.process\n",
    "class Grid2D(object):\n",
    "    \"\"\"Creates a regular (square) 2D grid.\"\"\"\n",
    "    size = xs.variable(description='nb. of grid nodes in x and y')\n",
    "    spacing = xs.variable(description='grid node spacing in x and y')\n",
    "    \n",
    "    x = xs.variable(dims='x', intent='out', description='grid x coordinate')\n",
    "    y = xs.variable(dims='y', intent='out', description='grid y coordinate')\n",
    "    \n",
    "    def initialize(self):\n",
    "        self.x = np.linspace(0, (size - 1) * spacing, size)\n",
    "        self.y = np.linspace(0, (size - 1) * spacing, size)"
   ]
  },
  {
   "cell_type": "markdown",
   "metadata": {},
   "source": [
    "Boundary conditions have also their own component."
   ]
  },
  {
   "cell_type": "code",
   "execution_count": null,
   "metadata": {},
   "outputs": [],
   "source": [
    "@xs.process\n",
    "class ClosedBoundaryFaces(object):\n",
    "    \"\"\"Set closed boundaries at each face of the grid.\"\"\"\n",
    "    size = xs.foreign(Grid2D, 'size')\n",
    "    active_nodes = xs.variable(dims=('y', 'x'), intent='out')\n",
    "    \n",
    "    def initialize(self):\n",
    "        self.active_nodes = np.ones((self.size, self.size), dtype=bool)\n",
    "        self.active_nodes[[0, -1], :] = False\n",
    "        self.active_nodes[:, [0, -1]] = False\n"
   ]
  },
  {
   "cell_type": "markdown",
   "metadata": {},
   "source": [
    "Unlike a more \"linear\" way of writing models (i.e., writing code from top to bottom following the computation steps), with xarray-simlab's we usually start by implementing the most generic components first (which makes sense as we'd like to implement a modular model). These components are often executed at the end of the computation chain.\n",
    "\n",
    "For example, here below we add three components that (1) combine all erosion processes, (2) combine all uplift processes (e.g., model forcing, isostatic rebound, flexure, etc.) and (3) updates elevation at each time step. "
   ]
  },
  {
   "cell_type": "code",
   "execution_count": null,
   "metadata": {},
   "outputs": [],
   "source": [
    "@xs.process\n",
    "class TotalErosion(object):\n",
    "    \"\"\"Combine (sum) all erosion processes.\"\"\"\n",
    "    erosion = xs.variable(dims=('y', 'x'), intent='out')\n",
    "    erosion_vars = xs.group('erosion')\n",
    "\n",
    "    def run_step(self, *args):\n",
    "        self.erosion = sum((err for err in self.erosion_vars))"
   ]
  },
  {
   "cell_type": "code",
   "execution_count": null,
   "metadata": {},
   "outputs": [],
   "source": [
    "@xs.process\n",
    "class TotalRockUplift(object):\n",
    "    \"\"\"Combine (sum) all uplift processes.\"\"\"\n",
    "    uplift = xs.variable(dims=('y', 'x'), intent='out')\n",
    "    uplift_vars = xs.group('uplift')\n",
    "\n",
    "    def run_step(self, *args):\n",
    "        self.uplift = sum((u for u in self.uplift_vars))"
   ]
  },
  {
   "cell_type": "code",
   "execution_count": null,
   "metadata": {},
   "outputs": [],
   "source": [
    "@xs.process\n",
    "class Topography(object):\n",
    "    \"\"\"Update topographic erosion as a balance between uplift and\n",
    "    erosion.\n",
    "    \n",
    "    Also compute derived variables (e.g., slope) on demand.\n",
    "\n",
    "    \"\"\"\n",
    "    elevation = xs.variable(dims=('y', 'x'), intent='inout',\n",
    "                            description='topographic elevation',\n",
    "                            attrs={'units': 'm', 'math_symbol':'$z$'})\n",
    "    total_erosion = xs.foreign(TotalErosion, 'erosion')\n",
    "    total_uplift = xs.foreign(TotalRockUplift, 'uplift')\n",
    "    slope = xs.on_demand(dims=('y', 'x'))\n",
    "\n",
    "    def initialize(self):\n",
    "        self.elevation_change = np.zeros_like(self.elevation)\n",
    "\n",
    "    def run_step(self, *args):\n",
    "        self.elevation_change = self.total_uplift - self.total_erosion\n",
    "\n",
    "    def finalize_step(self):\n",
    "        self.elevation += self.elevation_change\n",
    "    \n",
    "    @slope.compute\n",
    "    def _compute_slope(self):\n",
    "        # return slope computed from self.elevation\n",
    "        return"
   ]
  },
  {
   "cell_type": "markdown",
   "metadata": {},
   "source": [
    "The components below implement flow routing and erosion processes that we want to add to the model."
   ]
  },
  {
   "cell_type": "code",
   "execution_count": null,
   "metadata": {},
   "outputs": [],
   "source": [
    "@xs.process\n",
    "class FlowRouterD8(object):\n",
    "    \"\"\"Route flow through topographic surface and\n",
    "    compute flow tree.\n",
    "    \n",
    "    \"\"\"\n",
    "    size = xs.foreign(Grid2D, 'size')\n",
    "    spacing = xs.foreign(Grid2D, 'spacing')\n",
    "    active_nodes = xs.foreign(ClosedBoundaryFaces, 'active_nodes')\n",
    "    elevation = xs.foreign(Topography, 'elevation')\n",
    "\n",
    "    receivers = xs.variable(dims=('y', 'x'), intent='out')\n",
    "    dist2receivers = xs.variable(dims=('y', 'x'), intent='out')\n",
    "    ndonors = xs.variable(dims=('y', 'x'), intent='out')\n",
    "    donors = xs.variable(dims=('y', 'x', 'd8'), intent='out')\n",
    "    stack = xs.variable(dims=('y', 'x'), intent='out')\n",
    "    \n",
    "    def initialize(self):\n",
    "        # initialize all working and output arrays\n",
    "        pass\n",
    "    \n",
    "    def run_step(self):\n",
    "        # route flow and compute flow tree (stack)\n",
    "        pass"
   ]
  },
  {
   "cell_type": "code",
   "execution_count": null,
   "metadata": {},
   "outputs": [],
   "source": [
    "@xs.process\n",
    "class PropagateArea(object):\n",
    "    \"\"\"Computes drainage area.\"\"\"\n",
    "    spacing = xs.foreign(Grid2D, 'spacing')\n",
    "    receivers = xs.foreign(FlowRouterD8, 'receivers')\n",
    "    stack = xs.foreign(FlowRouterD8, 'stack')\n",
    "    \n",
    "    drainage_area = xs.variable(dims=('y', 'x'), intent='out',\n",
    "                                description='drainage area')\n",
    "    \n",
    "    def initialize(self):\n",
    "        # initialize self.drainage_area\n",
    "        pass\n",
    "    \n",
    "    def run_step(self, dt):\n",
    "        # updates self.drainage_area\n",
    "        pass"
   ]
  },
  {
   "cell_type": "code",
   "execution_count": null,
   "metadata": {},
   "outputs": [],
   "source": [
    "@xs.process\n",
    "class StreamPower(object):\n",
    "    \"\"\"River bedrock erosion using Stream-Power law.\"\"\"\n",
    "    k_coef = xs.variable(description='stream-power constant')\n",
    "    m_exp = xs.variable(description='stream-power drainage area exponent')\n",
    "    n_exp = xs.variable(description='stream-power slope exponent')\n",
    "    \n",
    "    erosion = xs.variable(dims=('y', 'x'), intent='out', group='erosion')\n",
    "\n",
    "    receivers = xs.foreign(FlowRouterD8, 'receivers')\n",
    "    dist2receivers = xs.foreign(FlowRouterD8, 'dist2receivers')\n",
    "    stack = xs.foreign(FlowRouterD8, 'stack')\n",
    "    drainage_area = xs.foreign(PropagateArea, 'drainage_area')\n",
    "    elevation = xs.foreign(Topography, 'elevation')\n",
    "    \n",
    "    def run_step(self, dt):\n",
    "        # computes self.erosion\n",
    "        pass"
   ]
  },
  {
   "cell_type": "code",
   "execution_count": null,
   "metadata": {},
   "outputs": [],
   "source": [
    "@xs.process\n",
    "class LinearDiffusion(object):\n",
    "    \"\"\"Hillslope erosion by diffusion.\"\"\"\n",
    "    k_coef = xs.variable(description='diffusivity')\n",
    "    erosion = xs.variable(dims=('y', 'x'), intent='out', group='erosion')\n",
    "    \n",
    "    elevation = xs.foreign(Topography, 'elevation')\n",
    "    \n",
    "    spacing = xs.foreign(Grid2D, 'spacing')\n",
    "    nx = xs.foreign(Grid2D, 'size')\n",
    "    ny = xs.foreign(Grid2D, 'size')\n",
    "    \n",
    "    def run_step(self, dt):\n",
    "        # computes self.erosion\n",
    "        pass"
   ]
  },
  {
   "cell_type": "code",
   "execution_count": null,
   "metadata": {},
   "outputs": [],
   "source": [
    "@xs.process\n",
    "class BlockUplift(object):\n",
    "    u_coef = xs.variable(dims=[(), ('y', 'x')], description='uplift rate')\n",
    "    active_nodes = xs.foreign(ClosedBoundaryFaces, 'active_nodes', intent='in')\n",
    "    \n",
    "    uplift = xs.variable(dims=[(), ('y', 'x')], intent='out', group='uplift')\n",
    "    \n",
    "    def initialize(self):\n",
    "        self.uplift = self.u_coef\n",
    "        self.uplift[~self.active_nodes] = 0."
   ]
  },
  {
   "cell_type": "markdown",
   "metadata": {},
   "source": [
    "## Create new models\n",
    "\n",
    "Once we have all components, creating a model is very easy: we just need to provide a dictionary with the decorated Python classes.\n",
    "\n",
    "We don't need to worry about process dependencies, computation order, which variables are model inputs, etc. This is all inferred automatically from the components at model creation."
   ]
  },
  {
   "cell_type": "code",
   "execution_count": null,
   "metadata": {},
   "outputs": [],
   "source": [
    "model = xs.Model(\n",
    "    {'grid': Grid2D,\n",
    "     'boundaries': ClosedBoundaryFaces,\n",
    "     'block_uplift': BlockUplift,\n",
    "     'flow_routing': FlowRouterD8,\n",
    "     'area': PropagateArea,\n",
    "     'spower': StreamPower,\n",
    "     'diffusion': LinearDiffusion,\n",
    "     'erosion': TotalErosion,\n",
    "     'uplift': TotalRockUplift,\n",
    "     'topography': Topography}\n",
    ")"
   ]
  },
  {
   "cell_type": "markdown",
   "metadata": {},
   "source": [
    "## Inspect models\n",
    "\n",
    "A `xsimlab.Model` object can be used to run simulations and also to interactively inspect the model's content (components, variables, dependencies, metadata). Actually, a `xsimlab.Model` object provides easy access to all the information required to automate many things like documentation, command-line interface, graphical interface, etc.\n",
    "\n",
    "The representation (repr) of a `xsimlab.Model` object shows all the processes and model inputs:"
   ]
  },
  {
   "cell_type": "code",
   "execution_count": null,
   "metadata": {},
   "outputs": [],
   "source": [
    "model"
   ]
  },
  {
   "cell_type": "markdown",
   "metadata": {},
   "source": [
    "Each component (process) can be accessed like an attribute. It shows all declared variables and the implemented simulation stages, e.g.,"
   ]
  },
  {
   "cell_type": "code",
   "execution_count": null,
   "metadata": {},
   "outputs": [],
   "source": [
    "model.grid"
   ]
  },
  {
   "cell_type": "markdown",
   "metadata": {},
   "source": [
    "`xsimlab.Model` also supports dict-like access, e.g.,"
   ]
  },
  {
   "cell_type": "code",
   "execution_count": null,
   "metadata": {},
   "outputs": [],
   "source": [
    "model['spower']"
   ]
  },
  {
   "cell_type": "markdown",
   "metadata": {},
   "source": [
    "Documentation (docstrings) has been automatically added for each variable, e.g.,"
   ]
  },
  {
   "cell_type": "code",
   "execution_count": null,
   "metadata": {},
   "outputs": [],
   "source": [
    "model.topography.elevation?"
   ]
  },
  {
   "cell_type": "markdown",
   "metadata": {},
   "source": [
    "It is also possible to visualize a model (i.e., its components) as an Acyclic Directed Graph (DAG):"
   ]
  },
  {
   "cell_type": "code",
   "execution_count": null,
   "metadata": {},
   "outputs": [],
   "source": [
    "model.visualize()"
   ]
  },
  {
   "cell_type": "markdown",
   "metadata": {},
   "source": [
    "With model inputs:"
   ]
  },
  {
   "cell_type": "code",
   "execution_count": null,
   "metadata": {},
   "outputs": [],
   "source": [
    "model.visualize(show_inputs=True)"
   ]
  },
  {
   "cell_type": "markdown",
   "metadata": {},
   "source": [
    "With all variables:"
   ]
  },
  {
   "cell_type": "code",
   "execution_count": null,
   "metadata": {},
   "outputs": [],
   "source": [
    "model.visualize(show_variables=True)"
   ]
  },
  {
   "cell_type": "markdown",
   "metadata": {},
   "source": [
    "Or show only one variable (and all related foreign variables):"
   ]
  },
  {
   "cell_type": "code",
   "execution_count": null,
   "metadata": {},
   "outputs": [],
   "source": [
    "model.visualize(show_only_variable=('topography', 'elevation'))"
   ]
  },
  {
   "cell_type": "code",
   "execution_count": null,
   "metadata": {},
   "outputs": [],
   "source": [
    "model.visualize(show_only_variable=('erosion', 'erosion_vars'))"
   ]
  },
  {
   "cell_type": "markdown",
   "metadata": {},
   "source": [
    "## Customize models\n",
    "\n",
    "It is very easy to customize existing models by adding, replacing or removing components.\n",
    "\n",
    "Here below, we create a new component to initialize simulations with a flat topography."
   ]
  },
  {
   "cell_type": "code",
   "execution_count": null,
   "metadata": {},
   "outputs": [],
   "source": [
    "@xs.process\n",
    "class InitTopographyFlat(object):\n",
    "    size = xs.foreign(Grid2D, 'size')\n",
    "    elevation = xs.foreign(Topography, 'elevation', intent='out')\n",
    "    \n",
    "    def initialize(self):\n",
    "        self.elevation = np.random.rand(self.size, self.size)"
   ]
  },
  {
   "cell_type": "markdown",
   "metadata": {},
   "source": [
    "Then we add this component to the model created above. This creates a new `xsimlab.Model` object. Process dependencies, model inputs, etc. are all updated automatically."
   ]
  },
  {
   "cell_type": "code",
   "execution_count": null,
   "metadata": {},
   "outputs": [],
   "source": [
    "model2 = model.update_processes({'init': InitTopographyFlat})"
   ]
  },
  {
   "cell_type": "markdown",
   "metadata": {},
   "source": [
    "Note that compared to the previous model elevation is not an input anymore:"
   ]
  },
  {
   "cell_type": "code",
   "execution_count": null,
   "metadata": {},
   "outputs": [],
   "source": [
    "model2"
   ]
  },
  {
   "cell_type": "markdown",
   "metadata": {},
   "source": [
    "As a second example, we create a new component that compute erosion coefficient depending on given rock resistivity."
   ]
  },
  {
   "cell_type": "code",
   "execution_count": null,
   "metadata": {},
   "outputs": [],
   "source": [
    "@xs.process\n",
    "class Lithology(object):\n",
    "    rock_resistivity = xs.variable(('z', 'y', 'x'),\n",
    "                                   description='rock resistance to erosion')\n",
    "    \n",
    "    k_diff = xs.foreign(LinearDiffusion, 'k_coef', intent='out')\n",
    "    k_sp = xs.foreign(StreamPower, 'k_coef', intent='out')"
   ]
  },
  {
   "cell_type": "code",
   "execution_count": null,
   "metadata": {},
   "outputs": [],
   "source": [
    "model3 = model2.update_processes({'lithology': Lithology})"
   ]
  },
  {
   "cell_type": "markdown",
   "metadata": {},
   "source": [
    "Note that the erosion coefficient are not model inputs anymore, instead `rock_resistivity` is added as another input:"
   ]
  },
  {
   "cell_type": "code",
   "execution_count": null,
   "metadata": {},
   "outputs": [],
   "source": [
    "model3.visualize(show_inputs=True)"
   ]
  },
  {
   "cell_type": "markdown",
   "metadata": {},
   "source": [
    "In the example below, we go back to a very simple version of the model (only uplift and erosion by diffusion) by removing all unneccessary components from the previous model."
   ]
  },
  {
   "cell_type": "code",
   "execution_count": null,
   "metadata": {},
   "outputs": [],
   "source": [
    "model4 = model3.drop_processes(['lithology', 'spower', 'flow_routing', 'area'])"
   ]
  },
  {
   "cell_type": "code",
   "execution_count": null,
   "metadata": {},
   "outputs": [],
   "source": [
    "model4.visualize(show_inputs=True)"
   ]
  },
  {
   "cell_type": "code",
   "execution_count": null,
   "metadata": {},
   "outputs": [],
   "source": []
  }
 ],
 "metadata": {
  "kernelspec": {
   "display_name": "Python [conda env:fastscape_py36]",
   "language": "python",
   "name": "conda-env-fastscape_py36-py"
  },
  "language_info": {
   "codemirror_mode": {
    "name": "ipython",
    "version": 3
   },
   "file_extension": ".py",
   "mimetype": "text/x-python",
   "name": "python",
   "nbconvert_exporter": "python",
   "pygments_lexer": "ipython3",
   "version": "3.6.2"
  }
 },
 "nbformat": 4,
 "nbformat_minor": 2
}
