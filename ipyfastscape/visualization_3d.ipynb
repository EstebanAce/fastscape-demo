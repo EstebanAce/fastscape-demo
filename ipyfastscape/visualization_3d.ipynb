{
 "cells": [
  {
   "cell_type": "markdown",
   "metadata": {},
   "source": [
    "# Interactive 3D visualization of Fastscape model outputs\n",
    "\n",
    "Model outputs can be viewed interactively in 3-d rendered scenes using [ipyfastscape](https://github.com/fastscape-lem/ipyfastscape)'s `TopoViz3d`, very much like [Paraview](https://www.paraview.org/) but in Jupyter notebooks."
   ]
  },
  {
   "cell_type": "code",
   "execution_count": null,
   "metadata": {},
   "outputs": [],
   "source": [
    "import numpy as np\n",
    "import xsimlab as xs\n",
    "import xarray as xr\n",
    "\n",
    "from fastscape.models import basic_model\n",
    "from ipyfastscape import TopoViz3d"
   ]
  },
  {
   "cell_type": "markdown",
   "metadata": {},
   "source": [
    "Let's start by setting and running a simple fastscape simulation. Model outputs will be saved along the `time` dimension (clock)."
   ]
  },
  {
   "cell_type": "code",
   "execution_count": null,
   "metadata": {},
   "outputs": [],
   "source": [
    "in_ds = xs.create_setup(\n",
    "    model=basic_model,\n",
    "    clocks={\n",
    "        'clock': np.arange(0, 2e6 + 2e4, 2e4),\n",
    "        'time': np.arange(0, 2e6 + 2e4, 2e4),\n",
    "    },\n",
    "    master_clock='time',\n",
    "    input_vars={\n",
    "        'grid__shape': [201, 201],\n",
    "        'grid__length': [2e5, 2e5],\n",
    "        'boundary__status': 'fixed_value',\n",
    "        'uplift__rate': 1e-3,\n",
    "        'spl': {\n",
    "            'k_coef': 1e-6,\n",
    "            'area_exp': 0.6,\n",
    "            'slope_exp': 1\n",
    "        },\n",
    "        'diffusion__diffusivity': 1e-1\n",
    "    },\n",
    "    output_vars={\n",
    "        'topography__elevation': 'time',\n",
    "        'drainage__area': 'time',\n",
    "        'spl__chi': 'time'\n",
    "    }\n",
    ")"
   ]
  },
  {
   "cell_type": "code",
   "execution_count": null,
   "metadata": {},
   "outputs": [],
   "source": [
    "with xs.monitoring.ProgressBar():\n",
    "    out_ds = in_ds.xsimlab.run(model=basic_model)"
   ]
  },
  {
   "cell_type": "code",
   "execution_count": null,
   "metadata": {},
   "outputs": [],
   "source": [
    "out_ds"
   ]
  },
  {
   "cell_type": "markdown",
   "metadata": {},
   "source": [
    "The output dataset `out_ds` can be readily used with `TopoViz3d`, which creates a graphical interface with the 3-d rendered scene as well as convenient controls for some display properties. Here we also explicitly set `time=\"time\"` to enable animation of the 3D scene using some additional controls."
   ]
  },
  {
   "cell_type": "code",
   "execution_count": null,
   "metadata": {},
   "outputs": [],
   "source": [
    "v1 = TopoViz3d(out_ds, canvas_height=600, time=\"time\")\n",
    "\n",
    "v1.show()"
   ]
  },
  {
   "cell_type": "markdown",
   "metadata": {},
   "source": [
    "It is also possible to control the visualization from the notebook code cells. For example, let's show the time step that is the closest to a given time value (you should see the output of the cell here above updated accordingly):"
   ]
  },
  {
   "cell_type": "code",
   "execution_count": null,
   "metadata": {},
   "outputs": [],
   "source": [
    "v1.timestepper.go_to_time(1.15e6)"
   ]
  },
  {
   "cell_type": "code",
   "execution_count": null,
   "metadata": {},
   "outputs": [],
   "source": []
  }
 ],
 "metadata": {
  "kernelspec": {
   "display_name": "Python [conda env:ipyfastscape_dev]",
   "language": "python",
   "name": "conda-env-ipyfastscape_dev-py"
  },
  "language_info": {
   "codemirror_mode": {
    "name": "ipython",
    "version": 3
   },
   "file_extension": ".py",
   "mimetype": "text/x-python",
   "name": "python",
   "nbconvert_exporter": "python",
   "pygments_lexer": "ipython3",
   "version": "3.8.5"
  }
 },
 "nbformat": 4,
 "nbformat_minor": 4
}
