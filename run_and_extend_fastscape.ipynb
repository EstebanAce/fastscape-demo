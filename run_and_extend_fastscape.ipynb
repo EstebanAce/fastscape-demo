{
 "cells": [
  {
   "cell_type": "markdown",
   "metadata": {},
   "source": [
    "# Landscape Evolution Modeling\n",
    "\n",
    "A showcase of xarray-simlab in the context of landscape evolution modeling (an almost real world example)."
   ]
  },
  {
   "cell_type": "code",
   "execution_count": null,
   "metadata": {
    "collapsed": true
   },
   "outputs": [],
   "source": [
    "import numpy as np\n",
    "import xarray as xr\n",
    "import xsimlab as xs"
   ]
  },
  {
   "cell_type": "markdown",
   "metadata": {},
   "source": [
    "## Import and inspect a model\n",
    "\n",
    "The model (i.e., the `xsimlab.Model` object) that we use here is provided by the [xarray-topo](https://gitext.gfz-potsdam.de/sec55-public/xarray-topo) package (**Note:** check the version of this package below, it may not correspond to the latest stable release)."
   ]
  },
  {
   "cell_type": "code",
   "execution_count": null,
   "metadata": {},
   "outputs": [],
   "source": [
    "import xtopo\n",
    "print(xtopo.__version__)"
   ]
  },
  {
   "cell_type": "code",
   "execution_count": null,
   "metadata": {
    "collapsed": true
   },
   "outputs": [],
   "source": [
    "from xtopo.models.fastscape_base import fastscape_base_model"
   ]
  },
  {
   "cell_type": "markdown",
   "metadata": {},
   "source": [
    "This model simulates the long-term evolution of topographic surface elevation (hereafter noted $h$) on a 2D regular grid. The local rate of elevation change, $\\partial h/\\partial t$, is determined by the balance between uplift (uniform in space and time) $U$ and erosion $E$.\n",
    "\n",
    "$$\\frac{\\partial h}{\\partial t} = U - E$$\n",
    "\n",
    "Total erosion $E$ is the combined effect of the erosion of (bedrock) river channels, noted $E_r$, and erosion- transport on hillslopes, noted $E_d$\n",
    "\n",
    "$$E = E_r + E_d$$\n",
    "\n",
    "Erosion of river channels is given by the stream power law:\n",
    "\n",
    "$$E_r = K_r A^m (\\nabla h)^n$$\n",
    "\n",
    "where $A$ is the drainage area and $K$, $m$ and $n$ are parameters.\n",
    "\n",
    "Erosion on hillslopes is given by a linear diffusion law:\n",
    "\n",
    "$$E_d = K_d \\nabla^2 h$$\n",
    "\n",
    "We can see these parameters - as well as the initial elevation surface and the grid parameters - as model inputs in the `repr`."
   ]
  },
  {
   "cell_type": "code",
   "execution_count": null,
   "metadata": {},
   "outputs": [],
   "source": [
    "fastscape_base_model"
   ]
  },
  {
   "cell_type": "markdown",
   "metadata": {},
   "source": [
    "To have a better picture of all processes (and inputs and/or variables) in the model, we can visualize it as a graph. Processes are in blue and inputs are in yellow. The order in the graph corresponds to the order in which the processes will be exectued during a simulation.\n",
    "\n",
    "Note: the visualization requires graphviz and python-graphviz packages (both can be installed using conda and the conda-forge channel)."
   ]
  },
  {
   "cell_type": "code",
   "execution_count": null,
   "metadata": {},
   "outputs": [],
   "source": [
    "fastscape_base_model.visualize(show_inputs=True)"
   ]
  },
  {
   "cell_type": "markdown",
   "metadata": {},
   "source": [
    "More information can be shown for each process in the model, e.g., for the grid"
   ]
  },
  {
   "cell_type": "code",
   "execution_count": null,
   "metadata": {},
   "outputs": [],
   "source": [
    "fastscape_base_model.grid"
   ]
  },
  {
   "cell_type": "markdown",
   "metadata": {},
   "source": [
    "## Create a model setup\n",
    "\n",
    "We create a simulation setup using the `create_setup` function."
   ]
  },
  {
   "cell_type": "code",
   "execution_count": null,
   "metadata": {
    "collapsed": true
   },
   "outputs": [],
   "source": [
    "nx = 101\n",
    "ny = 101\n",
    "\n",
    "in_ds = xs.create_setup(\n",
    "    model=fastscape_base_model,\n",
    "    clocks={\n",
    "        'time': np.linspace(0., 1e6, 101),\n",
    "        'out': np.linspace(0., 1e6, 11)\n",
    "    },\n",
    "    master_clock='time',\n",
    "    input_vars={\n",
    "        'grid': {'x_size': nx, 'y_size': ny, 'x_length': 1e5, 'y_length' :1e5},\n",
    "        'topography': {'elevation': (('y', 'x'), np.random.rand(ny, nx))},\n",
    "        'flow_routing': {'pit_method': 'mst_linear'},\n",
    "        'spower': {'k_coef': 7e-5, 'm_exp': 0.4, 'n_exp': 1},\n",
    "        'diffusion': {'k_coef': 1.},\n",
    "        'block_uplift': {'u_coef': 2e-3}\n",
    "    },\n",
    "    output_vars={\n",
    "        'out': {'topography': 'elevation'},\n",
    "        None: {'grid': ('x', 'y')}\n",
    "    }\n",
    ")"
   ]
  },
  {
   "cell_type": "markdown",
   "metadata": {},
   "source": [
    "Some explanation about the arguments of `create_setup` and the values given above:\n",
    "\n",
    "- we specify the model we want to use, here `fastscape_base_model`,\n",
    "- we specify values for clock coordinates (i.e., time coordinates),\n",
    "- among these coordinates, we specify the master clock, i.e., the coordinate that will be used to\n",
    "  set the time steps,\n",
    "- we set values for model inputs, grouped by process in the model,\n",
    "- we set the model variables for which we want to take snapshots during a simulation, grouped first\n",
    "  by clock coordinate (`None` means that only one snapshot will be taken at the end of the simulation)\n",
    "  and then by process.\n",
    "  \n",
    "Here above, we define a 'time' coordinate and another coordinate 'out' with much larger but aligned\n",
    "time steps (the values are in years). 'time' will be used for the simulation time steps and 'out' will be used to take just a few, evenly-spaced snapshots of\n",
    "variable 'elevation' in process 'topography'. We also want to\n",
    "save the $x$ and $y$ coordinates of the grid (values in meters), which are time-invariant.\n",
    "\n",
    "The initial conditions consist here of a nearly flat topographic surface with small random perturbations."
   ]
  },
  {
   "cell_type": "markdown",
   "metadata": {},
   "source": [
    "`create_setup` returns a `xarray.Dataset` object that contains everything we need to run the simulation. "
   ]
  },
  {
   "cell_type": "code",
   "execution_count": null,
   "metadata": {},
   "outputs": [],
   "source": [
    "in_ds"
   ]
  },
  {
   "cell_type": "markdown",
   "metadata": {},
   "source": [
    "If present, the metadata (e.g., description, units, math_symbol...) associated to each input variable in the model are added as attributes in the dataset, e.g.,"
   ]
  },
  {
   "cell_type": "code",
   "execution_count": null,
   "metadata": {},
   "outputs": [],
   "source": [
    "in_ds.spower__k_coef"
   ]
  },
  {
   "cell_type": "markdown",
   "metadata": {},
   "source": [
    "## Run the model\n",
    "\n",
    "We run the model simply by calling `in_ds.xsimlab.run()`, which returns a new Dataset with both the inputs and the outputs. "
   ]
  },
  {
   "cell_type": "code",
   "execution_count": null,
   "metadata": {},
   "outputs": [],
   "source": [
    "out_ds = in_ds.xsimlab.run(model=fastscape_base_model)\n",
    "\n",
    "out_ds"
   ]
  },
  {
   "cell_type": "markdown",
   "metadata": {},
   "source": [
    "Note in `out_ds` the `topography__elevation` variable which has now an additional `out` dimension and also the new variables `grid__x` and `grid__y`."
   ]
  },
  {
   "cell_type": "markdown",
   "metadata": {},
   "source": [
    "## Analyse, plot and save the results\n",
    "\n",
    "The simulation input and output data is already in a format that allows us using all the nice features of xarray to further analyse, process, plot and/or write to disk (e.g., in a netCDF file) the data.\n",
    "\n",
    "In this case for example, before doing any further processing it is more convenient to set $x$ and $y$ coordinates as coordinates of the output `Dataset` instead of data variables, using the `set_index` method. We can easily chain this method with `xsimlab.run` as it both return Dataset objects: "
   ]
  },
  {
   "cell_type": "code",
   "execution_count": null,
   "metadata": {},
   "outputs": [],
   "source": [
    "out_ds = (in_ds\n",
    "          .xsimlab.run(model=fastscape_base_model)\n",
    "          .set_index(x='grid__x', y='grid__y'))\n",
    "\n",
    "out_ds"
   ]
  },
  {
   "cell_type": "markdown",
   "metadata": {},
   "source": [
    "It is then easier to plot the simulation outputs, e.g., here below the elevation values at the end of the simulation:"
   ]
  },
  {
   "cell_type": "code",
   "execution_count": null,
   "metadata": {},
   "outputs": [],
   "source": [
    "%matplotlib inline\n",
    "\n",
    "xr.plot.pcolormesh(out_ds.isel(out=-1).topography__elevation,\n",
    "                   size=5, aspect=1);"
   ]
  },
  {
   "cell_type": "markdown",
   "metadata": {},
   "source": [
    "xarray datasets can be used with [Holoview](http://holoviews.org/), a plotting package that is really helpful for quickly and interactively exploring multi-dimensional data. (it can be installed using conda)."
   ]
  },
  {
   "cell_type": "code",
   "execution_count": null,
   "metadata": {},
   "outputs": [],
   "source": [
    "import holoviews as hv\n",
    "\n",
    "hv.notebook_extension('matplotlib')"
   ]
  },
  {
   "cell_type": "markdown",
   "metadata": {},
   "source": [
    "We can for example see below how the relief is created during the simulation (snapshots are taken every 100000 years and elevation values are in meters).\n",
    "\n",
    "**Note:** There may be issues with rendering Holoview interactive visualizations if you are on xarray-simlab's documentation. Fortunately you should be able to see this page as a notebook properly rendered on [nbviewer.org](http://nbviewer.jupyter.org/github/benbovy/xarray-simlab/blob/master/doc/examples/landscape-evolution-model.ipynb)."
   ]
  },
  {
   "cell_type": "code",
   "execution_count": null,
   "metadata": {},
   "outputs": [],
   "source": [
    "%%opts Image style(interpolation='bilinear', cmap='viridis') plot[colorbar=True]\n",
    "hv_ds = hv.Dataset(out_ds.topography__elevation)\n",
    "hv_ds.to(hv.Image, ['x', 'y'])"
   ]
  },
  {
   "cell_type": "markdown",
   "metadata": {},
   "source": [
    "Additionally, We can compute derived quantities without much effort. Here below we calculate the surface denudation rates (in m/yr) averaged over each time steps of the output `out` dimension. "
   ]
  },
  {
   "cell_type": "code",
   "execution_count": null,
   "metadata": {
    "collapsed": true
   },
   "outputs": [],
   "source": [
    "def denudation_rate(ds, time_dim='out'):\n",
    "    topo = ds.topography__elevation\n",
    "    dt = ds[time_dim].diff(time_dim)\n",
    "    den_rate = topo.diff(time_dim) / dt - ds.block_uplift__u_coef\n",
    "    return den_rate"
   ]
  },
  {
   "cell_type": "code",
   "execution_count": null,
   "metadata": {},
   "outputs": [],
   "source": [
    "den_rate = denudation_rate(out_ds)"
   ]
  },
  {
   "cell_type": "markdown",
   "metadata": {},
   "source": [
    "We further compute and plot the spatially averaged denudation rate."
   ]
  },
  {
   "cell_type": "code",
   "execution_count": null,
   "metadata": {},
   "outputs": [],
   "source": [
    "den_rate.mean(('x', 'y')).plot();"
   ]
  },
  {
   "cell_type": "markdown",
   "metadata": {},
   "source": [
    "## Run the model with time-varying parameter values\n",
    "\n",
    "Instead of providing constant, scalar values for model inputs, it is possible to provide arrays which have the same dimension as the one used for the \"master clock\" (the `time` dimension in this case).\n",
    "\n",
    "As an example, we try below a sinusoidal variation for the $K$ parameter of the stream power law, with a period of 400000 years."
   ]
  },
  {
   "cell_type": "code",
   "execution_count": null,
   "metadata": {
    "scrolled": true
   },
   "outputs": [],
   "source": [
    "da_k_time = 5e-5 + 3e-5 * np.cos((2 * np.pi / 4e5) * in_ds.time)\n",
    "\n",
    "da_k_time.plot();"
   ]
  },
  {
   "cell_type": "markdown",
   "metadata": {},
   "source": [
    "We then re-use the simulation setup created above and only update the parameters of the stream-power process with the new values for $K$ (using `Dataset.xsimlab.update_vars`).\n",
    "\n",
    "Note the `time` dimension of the `spower__k_coef` variable in the new returned Dataset."
   ]
  },
  {
   "cell_type": "code",
   "execution_count": null,
   "metadata": {},
   "outputs": [],
   "source": [
    "in_ds_kt = in_ds.xsimlab.update_vars(\n",
    "    model=fastscape_base_model,\n",
    "    input_vars={'spower': {'k_coef': da_k_time, 'm_exp': 0.4, 'n_exp': 1}}\n",
    ")\n",
    "\n",
    "in_ds_kt"
   ]
  },
  {
   "cell_type": "markdown",
   "metadata": {},
   "source": [
    "We then run the model, unstack the spatial dimensions, compute the denudation rates and plot the spatial averages, here again by easily chaining xarray and xarray-simlab methods on the input Dataset.\n",
    "\n",
    "If we compare the results with those from the previous run, we clearly see the impact of the time-varying $K$ parameter values on the denudation rates. "
   ]
  },
  {
   "cell_type": "code",
   "execution_count": null,
   "metadata": {},
   "outputs": [],
   "source": [
    "den_rate_kt = (in_ds_kt\n",
    "               .xsimlab.run(model=fastscape_base_model)\n",
    "               .set_index(x='grid__x', y='grid__y')\n",
    "               .pipe(denudation_rate))\n",
    "\n",
    "den_rate_kt.mean(('x', 'y')).plot();"
   ]
  },
  {
   "cell_type": "markdown",
   "metadata": {},
   "source": [
    "## Run and combine different model setups\n",
    "\n",
    "Here is an brief example of running the model multiple times for different fixed values of $K$ and then concatenate the results into a single dataset. In next versions of xarray-simlab, this process will be even simpler."
   ]
  },
  {
   "cell_type": "code",
   "execution_count": null,
   "metadata": {},
   "outputs": [],
   "source": [
    "def run_model(k_value):\n",
    "    print('run k=%f' % k_value)\n",
    "    \n",
    "    ivars = {'spower': {'k_coef': k_value, 'm_exp': 0.4, 'n_exp': 1}}\n",
    "    \n",
    "    out_ds = (in_ds\n",
    "              .xsimlab.update_vars(model=fastscape_base_model,\n",
    "                                   input_vars=ivars)\n",
    "              .xsimlab.run(model=fastscape_base_model)\n",
    "              .set_index(x='grid__x', y='grid__y'))\n",
    "    \n",
    "    return out_ds\n",
    "\n",
    " \n",
    "out_ds_multi = xr.concat(\n",
    "    [run_model(k) for k in (5e-5, 6e-5, 7e-5)],\n",
    "    dim='spower__k_coef', data_vars='different'\n",
    ")"
   ]
  },
  {
   "cell_type": "markdown",
   "metadata": {},
   "source": [
    "Note the additional `spower__k_coef` dimension, which has its own coordinate with labels corresponding to the different $K$ values."
   ]
  },
  {
   "cell_type": "code",
   "execution_count": null,
   "metadata": {},
   "outputs": [],
   "source": [
    "out_ds_multi"
   ]
  },
  {
   "cell_type": "markdown",
   "metadata": {},
   "source": [
    "This new dimension also appears in the Holoview figure"
   ]
  },
  {
   "cell_type": "code",
   "execution_count": null,
   "metadata": {
    "scrolled": true
   },
   "outputs": [],
   "source": [
    "%%opts Image style(interpolation='bilinear', cmap='viridis') plot[colorbar=True]\n",
    "hv_ds = hv.Dataset(out_ds_multi.topography__elevation)\n",
    "hv_ds.to(hv.Image, ['x', 'y'])"
   ]
  },
  {
   "cell_type": "markdown",
   "metadata": {},
   "source": [
    "## Create an alternative version of the model\n",
    "\n",
    "xarray-simlab makes it easy to create alternative versions of a model. In the example below, instead of using constant block uplift, we set a linear uplift function along the $x$ dimension. The first step is to create a new process, i.e., a Python class decorated by ``xsimlab.process``. "
   ]
  },
  {
   "cell_type": "code",
   "execution_count": null,
   "metadata": {
    "collapsed": true
   },
   "outputs": [],
   "source": [
    "from xtopo.models.fastscape_base import Grid2D, ClosedBoundaryFaces\n",
    "\n",
    "\n",
    "@xs.process\n",
    "class VariableUplift(object):\n",
    "    \"\"\"Compute spatially variable uplift as a linear function of x.\"\"\"\n",
    "    \n",
    "    x_coef = xs.variable(description='uplift function x coefficient')\n",
    "    \n",
    "    active_nodes = xs.foreign(ClosedBoundaryFaces, 'active_nodes')\n",
    "    x = xs.foreign(Grid2D, 'x')\n",
    "    \n",
    "    uplift = xs.variable(intent='out', group='uplift')\n",
    "\n",
    "    def initialize(self):\n",
    "        mask = self.active_nodes\n",
    "        ny, nx = mask.shape\n",
    "\n",
    "        u_rate = np.ones((ny, nx)) * self.x_coef * self.x[None, :]\n",
    "        \n",
    "        self._u_rate = np.zeros((ny, nx))\n",
    "        self._u_rate[mask] = u_rate[mask]\n",
    "\n",
    "    def run_step(self, dt):\n",
    "        self.uplift = self._u_rate * dt\n"
   ]
  },
  {
   "cell_type": "markdown",
   "metadata": {},
   "source": [
    "We then update the model that we used above with the new process (note the change in repr: the `uplift` process has now an `x_coef` input)."
   ]
  },
  {
   "cell_type": "code",
   "execution_count": null,
   "metadata": {},
   "outputs": [],
   "source": [
    "alt_model = (fastscape_base_model.drop_processes('block_uplift')\n",
    "                                 .update_processes({'uplift_func': VariableUplift}))\n",
    "\n",
    "alt_model"
   ]
  },
  {
   "cell_type": "markdown",
   "metadata": {},
   "source": [
    "We then re-use our intial setup, remove from this setup everything that is not related to the new model (using `Dataset.xsimlab.filter_vars` which here drops the `uplift__u_coef` variable), update the setup with the new parameter and then run the model.\n",
    "\n",
    "Note that in some cases it is convenient to use the `with` statement with a `Model` object. For example we don't need to provide the `model` argument in `filter_vars`, `update_vars` and `run` methods below. "
   ]
  },
  {
   "cell_type": "code",
   "execution_count": null,
   "metadata": {
    "collapsed": true
   },
   "outputs": [],
   "source": [
    "with alt_model:\n",
    "    out_ds_alt = (\n",
    "        in_ds\n",
    "        .xsimlab.filter_vars()\n",
    "        .xsimlab.update_vars(input_vars={'uplift_func': {'x_coef': 1e-7}})\n",
    "        .xsimlab.run()\n",
    "        .set_index(x='grid__x', y='grid__y')\n",
    "    )"
   ]
  },
  {
   "cell_type": "markdown",
   "metadata": {},
   "source": [
    "You can compare the results obtained here with the results obtained above."
   ]
  },
  {
   "cell_type": "code",
   "execution_count": null,
   "metadata": {},
   "outputs": [],
   "source": [
    "xr.plot.pcolormesh(out_ds_alt.isel(out=-1).topography__elevation,\n",
    "                   size=5, aspect=1);"
   ]
  },
  {
   "cell_type": "code",
   "execution_count": null,
   "metadata": {},
   "outputs": [],
   "source": [
    "%%opts Image style(interpolation='bilinear', cmap='viridis') plot[colorbar=True]\n",
    "hv_ds = hv.Dataset(out_ds_alt.topography__elevation)\n",
    "hv_ds.to(hv.Image, ['x', 'y'])"
   ]
  },
  {
   "cell_type": "code",
   "execution_count": null,
   "metadata": {
    "collapsed": true
   },
   "outputs": [],
   "source": []
  }
 ],
 "metadata": {
  "celltoolbar": "Raw Cell Format",
  "kernelspec": {
   "display_name": "Python [conda env:fastscape_py36]",
   "language": "python",
   "name": "conda-env-fastscape_py36-py"
  },
  "language_info": {
   "codemirror_mode": {
    "name": "ipython",
    "version": 3
   },
   "file_extension": ".py",
   "mimetype": "text/x-python",
   "name": "python",
   "nbconvert_exporter": "python",
   "pygments_lexer": "ipython3",
   "version": "3.6.2"
  }
 },
 "nbformat": 4,
 "nbformat_minor": 2
}
