{
 "cells": [
  {
   "cell_type": "markdown",
   "metadata": {
    "slideshow": {
     "slide_type": "slide"
    }
   },
   "source": [
    "<img src=\"assets/fastscape_logo_midres.png\" width=400>"
   ]
  },
  {
   "cell_type": "markdown",
   "metadata": {
    "slideshow": {
     "slide_type": "slide"
    }
   },
   "source": [
    "## What is Fastscape?\n"
   ]
  },
  {
   "cell_type": "markdown",
   "metadata": {
    "slideshow": {
     "slide_type": "fragment"
    }
   },
   "source": [
    "- a landscape evolution model?"
   ]
  },
  {
   "cell_type": "markdown",
   "metadata": {
    "slideshow": {
     "slide_type": "fragment"
    }
   },
   "source": [
    "- a set of efficient algorithms for landscape evolution modeling?"
   ]
  },
  {
   "cell_type": "markdown",
   "metadata": {
    "slideshow": {
     "slide_type": "fragment"
    }
   },
   "source": [
    "- a software?\n",
    "  - a library?\n",
    "  - a framework?"
   ]
  },
  {
   "cell_type": "markdown",
   "metadata": {
    "slideshow": {
     "slide_type": "fragment"
    }
   },
   "source": [
    "**Fastscape is all of that!**"
   ]
  },
  {
   "cell_type": "markdown",
   "metadata": {
    "slideshow": {
     "slide_type": "slide"
    }
   },
   "source": [
    "## Fastscape's (software) stack\n",
    "\n",
    "<img src=\"assets/fastscape_stack.png\" width=1200>"
   ]
  },
  {
   "cell_type": "markdown",
   "metadata": {
    "slideshow": {
     "slide_type": "slide"
    }
   },
   "source": [
    "## Fastscape \"core\"\n",
    "\n",
    "https://github.com/fastscape-lem\n",
    "\n",
    "### fastscape\n",
    "\n",
    "- a fast, versatile and user-friendly landscape evolution model (Python)\n",
    "- high-level and modular interface, highly-connected to the Python scientific ecosystem!\n",
    "- targets >90% of fastscape users\n",
    "- documentation: https://fastscape.readthedocs.io\n",
    "- source repository: https://github.com/fastscape-lem/fastscape\n",
    "- `conda install fastscape -c conda-forge`"
   ]
  },
  {
   "cell_type": "markdown",
   "metadata": {
    "slideshow": {
     "slide_type": "subslide"
    }
   },
   "source": [
    "### fastscapelib-fortran\n",
    "\n",
    "- a Fortran library of efficient algorithms for landscape evolution modeling\n",
    "- low-level Python interface (numpy compatible, via f2py), used as backend for *fastscape*\n",
    "- targets Fortran users (and maybe Python hackers)\n",
    "- documentation: https://fastscape-lem.github.io/fastscapelib-fortran/\n",
    "- source repository: https://github.com/fastscape-lem/fastscapelib-fortran\n",
    "- `conda install fastscapelib-f2py -c conda-forge` (only installs the Python bindings)"
   ]
  },
  {
   "cell_type": "markdown",
   "metadata": {
    "slideshow": {
     "slide_type": "subslide"
    }
   },
   "source": [
    "### fastscapelib (C++)\n",
    "\n",
    "- a C++ library of efficient algorithms for landscape evolution modeling\n",
    "- low-level C++ and Python interfaces (and possibly R, Julia, C, Fortran... via xtensor)\n",
    "- will eventually replace *fastscapelib-fortran* as backend for *fastscape*\n",
    "- targets curious users. Still at an early stage of development!\n",
    "- documentation: https://fastscapelib.readthedocs.io\n",
    "- source repository: https://github.com/fastscape-lem/fastscapelib\n",
    "- `conda install fastscapelib fastscapelib-python -c conda-forge`"
   ]
  },
  {
   "cell_type": "markdown",
   "metadata": {
    "slideshow": {
     "slide_type": "subslide"
    }
   },
   "source": [
    "### xarray-simlab\n",
    "\n",
    "- a generic framework for building computational models and a xarray extension for running simulations\n",
    "- used by *fastscape* to create a high-level and modular interface with little effort\n",
    "- targets users who want to run, extend *fastscape* or build other models from scratch\n",
    "- documentation: https://xarray-simlab.readthedocs.io\n",
    "- source repository: https://github.com/benbovy/xarray-simlab\n",
    "- `conda install xarray-simlab -c conda-forge`"
   ]
  },
  {
   "cell_type": "markdown",
   "metadata": {
    "slideshow": {
     "slide_type": "slide"
    }
   },
   "source": [
    "## Fastscape extensions\n",
    "\n",
    "Currently in development... ...hopefully many more in the future!\n",
    "\n",
    "### parapatric-spectiation\n",
    "\n",
    "- parapatric speciation model (life evolution) (Kat)\n",
    "- source repository: https://gitext.gfz-potsdam.de/sec55-public/parapatric-speciation\n",
    "\n",
    "### orographic-precipitation\n",
    "\n",
    "- simple LT model for orographic precipitation (Raphael)\n",
    "- source repository: https://github.com/rlange2/orographic-precipitation\n",
    "\n",
    "### disero\n",
    "\n",
    "- spatially variable discharge driven erosion model (Igor, Eric Deal)\n",
    "- source repository: https://gitext.gfz-potsdam.de/sec55-public/disero\n"
   ]
  },
  {
   "cell_type": "markdown",
   "metadata": {
    "slideshow": {
     "slide_type": "slide"
    }
   },
   "source": [
    "## (a subset of) Array libraries in Python\n",
    "\n",
    "### Numpy\n",
    "\n",
    "- basic, N-dimensional arrays fully stored in memory (https://numpy.org/doc/)\n",
    "\n",
    "### Zarr\n",
    "\n",
    "- chunked, compressed, N-dimensional arrays for storage (https://zarr.readthedocs.io)\n",
    "\n",
    "### Dask (array)\n",
    "\n",
    "- chunked, N-dimensional arrays for parallel computing (https://docs.dask.org)\n",
    "\n",
    "### Xarray\n",
    "\n",
    "- labeled, N-dimensional arrays (http://xarray.pydata.org)\n",
    "- integrated with numpy, dask and zarr"
   ]
  }
 ],
 "metadata": {
  "kernelspec": {
   "display_name": "Python [conda env:fastscape-demo]",
   "language": "python",
   "name": "conda-env-fastscape-demo-py"
  },
  "language_info": {
   "codemirror_mode": {
    "name": "ipython",
    "version": 3
   },
   "file_extension": ".py",
   "mimetype": "text/x-python",
   "name": "python",
   "nbconvert_exporter": "python",
   "pygments_lexer": "ipython3",
   "version": "3.7.6"
  },
  "rise": {
   "theme": "beige",
   "transition": "none"
  },
  "toc-autonumbering": false,
  "toc-showcode": true,
  "toc-showmarkdowntxt": false,
  "toc-showtags": false
 },
 "nbformat": 4,
 "nbformat_minor": 4
}
